{
 "cells": [
  {
   "cell_type": "code",
   "execution_count": 1,
   "metadata": {
    "collapsed": true
   },
   "outputs": [],
   "source": [
    "import avro.schema\n",
    "import io, random, os, time\n",
    "from avro.io import DatumWriter, DatumReader\n",
    "from avro.datafile import DataFileReader, DataFileWriter\n",
    "\n",
    "# Load schema\n",
    "schema_path = \"data/click_log.avsc\"\n",
    "store_path = \"data/click_log.avro\"\n",
    "schema = avro.schema.parse(open(schema_path).read())"
   ]
  },
  {
   "cell_type": "code",
   "execution_count": 7,
   "metadata": {
    "collapsed": false
   },
   "outputs": [],
   "source": [
    "out = []\n",
    "for size in range(10):\n",
    "    writer = DataFileWriter(open(store_path, \"wb\"), DatumWriter(), schema)\n",
    "    for item in xrange(size):\n",
    "    #     writer = avro.io.DatumWriter(schema)\n",
    "    #     bytes_writer = io.BytesIO()\n",
    "    #     encoder = avro.io.BinaryEncoder(bytes_writer)\n",
    "        writer.append({\n",
    "                      \"user_id\": random.randint(0,1000000),\n",
    "                      \"time\": int(time.time()),  # Simulate 1 click per second\n",
    "                      \"action\": random.randint(0,3),\n",
    "                      \"destination\": random.randint(0, 10000),\n",
    "                      \"hotel\": random.randint(0,1000)}) #, encoder)\n",
    "        time.sleep(1)              \n",
    "    writer.close()\n",
    "    out.append(os.stat(store_path).st_size)"
   ]
  },
  {
   "cell_type": "code",
   "execution_count": 8,
   "metadata": {
    "collapsed": false
   },
   "outputs": [
    {
     "data": {
      "text/plain": [
       "[<matplotlib.lines.Line2D at 0x7fa141f2dc50>]"
      ]
     },
     "execution_count": 8,
     "metadata": {},
     "output_type": "execute_result"
    },
    {
     "data": {
      "image/png": "[encoded data removed]",
      "text/plain": [
       "<matplotlib.figure.Figure at 0x7fa141f83b90>"
      ]
     },
     "metadata": {},
     "output_type": "display_data"
    }
   ],
   "source": [
    "%matplotlib inline\n",
    "from matplotlib import pyplot as plt\n",
    "\n",
    "plt.plot(out)"
   ]
  },
  {
   "cell_type": "code",
   "execution_count": null,
   "metadata": {
    "collapsed": true
   },
   "outputs": [],
   "source": []
  }
 ],
 "metadata": {
  "kernelspec": {
   "display_name": "Python 2",
   "language": "python",
   "name": "python2"
  },
  "language_info": {
   "codemirror_mode": {
    "name": "ipython",
    "version": 2
   },
   "file_extension": ".py",
   "mimetype": "text/x-python",
   "name": "python",
   "nbconvert_exporter": "python",
   "pygments_lexer": "ipython2",
   "version": "2.7.11"
  }
 },
 "nbformat": 4,
 "nbformat_minor": 0
}
