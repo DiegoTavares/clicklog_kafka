{
 "cells": [
  {
   "cell_type": "markdown",
   "metadata": {},
   "source": [
    "Generate the clicks in a Kafka topic\n",
    "----"
   ]
  },
  {
   "cell_type": "code",
   "execution_count": null,
   "metadata": {
    "collapsed": false
   },
   "outputs": [],
   "source": [
    "import os\n",
    "import io, random, time, sys\n",
    "os.environ['PYSPARK_SUBMIT_ARGS'] = '--conf spark.ui.port=4041 --packages org.apache.kafka:kafka_2.11:0.9.0.0,org.apache.kafka:kafka-clients:0.9.0.0  pyspark-shell'\n",
    "\n",
    "from kafka import KafkaProducer, KafkaClient\n",
    "import avro.schema\n",
    "from avro.io import DatumWriter\n",
    "from avro.datafile import DataFileReader, DataFileWriter"
   ]
  },
  {
   "cell_type": "code",
   "execution_count": null,
   "metadata": {
    "collapsed": false
   },
   "outputs": [],
   "source": [
    "producer = KafkaProducer(bootstrap_servers='localhost:9092')\n",
    "topic = \"clicklog\"\n",
    "\n",
    "# Load schema\n",
    "schema_path = \"data/click_log.avsc\"\n",
    "schema = avro.schema.parse(open(schema_path).read())"
   ]
  },
  {
   "cell_type": "code",
   "execution_count": null,
   "metadata": {
    "collapsed": false
   },
   "outputs": [],
   "source": [
    "writer = avro.io.DatumWriter(schema)\n",
    "while True:\n",
    "    bytes_writer = io.BytesIO()\n",
    "    encoder = avro.io.BinaryEncoder(bytes_writer)\n",
    "    writer.write({\n",
    "                  \"user_id\": random.randint(0,30),\n",
    "                  \"time\": int(time.time()),  # Simulate 1 click per second\n",
    "                  \"action\": random.randint(0,3),\n",
    "                  \"destination\": random.randint(0, 10000),\n",
    "                  \"hotel\": random.randint(0,1000)}, encoder)\n",
    "\n",
    "    producer.send(topic, bytes_writer.getvalue())\n",
    "    time.sleep(1)\n",
    "writer.close()"
   ]
  },
  {
   "cell_type": "code",
   "execution_count": null,
   "metadata": {
    "collapsed": true
   },
   "outputs": [],
   "source": []
  }
 ],
 "metadata": {
  "kernelspec": {
   "display_name": "Python 2",
   "language": "python",
   "name": "python2"
  },
  "language_info": {
   "codemirror_mode": {
    "name": "ipython",
    "version": 2
   },
   "file_extension": ".py",
   "mimetype": "text/x-python",
   "name": "python",
   "nbconvert_exporter": "python",
   "pygments_lexer": "ipython2",
   "version": "2.7.11"
  }
 },
 "nbformat": 4,
 "nbformat_minor": 0
}
